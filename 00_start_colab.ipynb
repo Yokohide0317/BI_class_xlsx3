{
  "cells": [
    {
      "cell_type": "code",
      "execution_count": 1,
      "metadata": {
        "colab": {
          "base_uri": "https://localhost:8080/"
        },
        "id": "slzZO5hEim2r",
        "outputId": "b1fab3ff-bc05-498e-a610-990fbca670d1"
      },
      "outputs": [
        {
          "name": "stdout",
          "output_type": "stream",
          "text": [
            "Hello World!\n"
          ]
        }
      ],
      "source": [
        "# Python 入門！\n",
        "# 入力したら、 「Shiftキー + Enterキー」で実行します。\n",
        "print(\"Hello World!\")"
      ]
    },
    {
      "cell_type": "code",
      "execution_count": 2,
      "metadata": {
        "colab": {
          "base_uri": "https://localhost:8080/"
        },
        "id": "d9IVPEV2jRP5",
        "outputId": "9c77aeb7-0304-4c80-ad15-5f0d5fb10cdd"
      },
      "outputs": [
        {
          "name": "stdout",
          "output_type": "stream",
          "text": [
            "これはコード\n"
          ]
        }
      ],
      "source": [
        "# を前に付けると、この行はコードとして認識されません。\n",
        "# -> \"コメントアウト\" といいます。\n",
        "\n",
        "# コードの説明として多用しますが、\n",
        "# 写さなくても結構です。\n",
        "\n",
        "# print(\"これはコメントアウト\")\n",
        "print(\"これはコード\")"
      ]
    },
    {
      "cell_type": "code",
      "execution_count": 3,
      "metadata": {
        "colab": {
          "base_uri": "https://localhost:8080/"
        },
        "id": "SMEepNoeit4O",
        "outputId": "cfd29969-ec10-4be5-e2d9-8e69c7953048"
      },
      "outputs": [
        {
          "name": "stdout",
          "output_type": "stream",
          "text": [
            "30\n"
          ]
        }
      ],
      "source": [
        "# 「変数 = 値」で代入できます。\n",
        "a = 10\n",
        "b = 20\n",
        "print(a + b)"
      ]
    },
    {
      "cell_type": "code",
      "execution_count": 4,
      "metadata": {
        "colab": {
          "base_uri": "https://localhost:8080/"
        },
        "id": "VKsrLTBai8i2",
        "outputId": "1a0f1113-54ec-4cfc-c78e-38581c55caa4"
      },
      "outputs": [
        {
          "data": {
            "text/plain": [
              "30"
            ]
          },
          "execution_count": 4,
          "metadata": {},
          "output_type": "execute_result"
        }
      ],
      "source": [
        "# ノートブック形式では、セルの最後の行の結果を、\n",
        "# print() を使わずとも表示してくれます。\n",
        "a = 10\n",
        "b = 20\n",
        "a + b  # print(a + b)と同じ"
      ]
    },
    {
      "cell_type": "markdown",
      "metadata": {
        "id": "f__yiAA7leED"
      },
      "source": [
        "# テキストセルの追加\n",
        "- 「+Text」を押すことで、テキスト入力ができるセルが入ります。\n",
        "- 書き方は、「markdown形式」に準じてます。→検索してみてください。\n",
        "- コードと同じように、「Shiftキー + Enterキー」で確定できます。\n",
        "\n",
        "※ Textセルはコードブロックに影響しません。よって、書き写す必要はありませんが、格段的に見やすくなります。"
      ]
    },
    {
      "cell_type": "markdown",
      "metadata": {
        "id": "0IHq4nrwlbF5"
      },
      "source": [
        "# 配列"
      ]
    },
    {
      "cell_type": "code",
      "execution_count": 5,
      "metadata": {
        "colab": {
          "base_uri": "https://localhost:8080/"
        },
        "id": "-GRqAhi0kq2s",
        "outputId": "55931994-adde-4ab1-b173-1a6689f62eb7"
      },
      "outputs": [
        {
          "data": {
            "text/plain": [
              "['りんご', 'オレンジ', 'パイナップル', 'ぶどう']"
            ]
          },
          "execution_count": 5,
          "metadata": {},
          "output_type": "execute_result"
        }
      ],
      "source": [
        "# 配列\n",
        "## 「[]」で囲み、「,」で区切ることで、配列を作ることができます。\n",
        "buy_list = [\"りんご\", \"オレンジ\", \"パイナップル\", \"ぶどう\"]\n",
        "buy_list"
      ]
    },
    {
      "cell_type": "code",
      "execution_count": 6,
      "metadata": {
        "colab": {
          "base_uri": "https://localhost:8080/"
        },
        "id": "CQlZCq0klX3k",
        "outputId": "8eed6eef-bb9d-4ca1-d3ae-7dd2415e1865"
      },
      "outputs": [
        {
          "name": "stdout",
          "output_type": "stream",
          "text": [
            "りんご\n",
            "パイナップル\n"
          ]
        }
      ],
      "source": [
        "# 「配列名[n番目]」で、配列の要素にアクセスできます。\n",
        "# ※ 0からスタートしているので、注意!\n",
        "print(buy_list[0])\n",
        "print(buy_list[2])"
      ]
    },
    {
      "cell_type": "markdown",
      "metadata": {
        "id": "52idpo1YnPLI"
      },
      "source": [
        "# 辞書"
      ]
    },
    {
      "cell_type": "code",
      "execution_count": 7,
      "metadata": {
        "colab": {
          "base_uri": "https://localhost:8080/"
        },
        "id": "_r8mIBc7m43n",
        "outputId": "09c69c91-8b28-46b8-8f5f-cd7791a4ce26"
      },
      "outputs": [
        {
          "data": {
            "text/plain": [
              "{'北海道': '札幌', '大阪': '堺', '沖縄': '名護'}"
            ]
          },
          "execution_count": 7,
          "metadata": {},
          "output_type": "execute_result"
        }
      ],
      "source": [
        "# 辞書\n",
        "## 「{}」で囲み、「キー: 値」形式を「,」で区切ることで、辞書を作ることができます。\n",
        "\n",
        "japan = {\n",
        "    \"北海道\": \"札幌\",\n",
        "    \"大阪\": \"堺\",\n",
        "    \"沖縄\": \"名護\",\n",
        "}\n",
        "japan"
      ]
    },
    {
      "cell_type": "code",
      "execution_count": 8,
      "metadata": {
        "colab": {
          "base_uri": "https://localhost:8080/"
        },
        "id": "NRTTV6uioAqE",
        "outputId": "87836323-bdbf-498e-a420-0335fa250ebd"
      },
      "outputs": [
        {
          "name": "stdout",
          "output_type": "stream",
          "text": [
            "札幌\n",
            "名護\n"
          ]
        }
      ],
      "source": [
        "# 「辞書名[キー]」で、要素にアクセスできます。\n",
        "\n",
        "print(japan[\"北海道\"])\n",
        "print(japan[\"沖縄\"])"
      ]
    },
    {
      "cell_type": "code",
      "execution_count": 9,
      "metadata": {
        "colab": {
          "base_uri": "https://localhost:8080/"
        },
        "id": "VRNLS3xzoMRA",
        "outputId": "46aebb23-9cca-4689-ed69-8605b0fa2bc1"
      },
      "outputs": [
        {
          "data": {
            "text/plain": [
              "{'北海道': '札幌', '大阪': '堺', '沖縄': '那覇'}"
            ]
          },
          "execution_count": 9,
          "metadata": {},
          "output_type": "execute_result"
        }
      ],
      "source": [
        "# 辞書の要素は、変更可能です。\n",
        "\n",
        "japan[\"沖縄\"] = \"那覇\"\n",
        "japan"
      ]
    },
    {
      "cell_type": "code",
      "execution_count": null,
      "metadata": {
        "id": "e-0jIHBcoaN2"
      },
      "outputs": [],
      "source": []
    }
  ],
  "metadata": {
    "colab": {
      "provenance": []
    },
    "kernelspec": {
      "display_name": "Python 3",
      "name": "python3"
    },
    "language_info": {
      "codemirror_mode": {
        "name": "ipython",
        "version": 3
      },
      "file_extension": ".py",
      "mimetype": "text/x-python",
      "name": "python",
      "nbconvert_exporter": "python",
      "pygments_lexer": "ipython3",
      "version": "3.10.6"
    }
  },
  "nbformat": 4,
  "nbformat_minor": 0
}
